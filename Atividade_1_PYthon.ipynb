{
  "nbformat": 4,
  "nbformat_minor": 0,
  "metadata": {
    "colab": {
      "provenance": [],
      "authorship_tag": "ABX9TyMhz3hN1FzjUrlQ2ey0U39V",
      "include_colab_link": true
    },
    "kernelspec": {
      "name": "python3",
      "display_name": "Python 3"
    },
    "language_info": {
      "name": "python"
    }
  },
  "cells": [
    {
      "cell_type": "markdown",
      "metadata": {
        "id": "view-in-github",
        "colab_type": "text"
      },
      "source": [
        "<a href=\"https://colab.research.google.com/github/lelialealgondim-ux/gti-modulo1/blob/main/Atividade_1_PYthon.ipynb\" target=\"_parent\"><img src=\"https://colab.research.google.com/assets/colab-badge.svg\" alt=\"Open In Colab\"/></a>"
      ]
    },
    {
      "cell_type": "code",
      "source": [
        "# 1  Conversão de temperatura"
      ],
      "metadata": {
        "id": "Wm02FWkKAMF3"
      },
      "execution_count": null,
      "outputs": []
    },
    {
      "cell_type": "code",
      "source": [
        "c=float(input(\"Informe a temperatura em °C:\"))"
      ],
      "metadata": {
        "colab": {
          "base_uri": "https://localhost:8080/"
        },
        "id": "B2-5RQXoxfre",
        "outputId": "54b270bf-78dc-4d2d-e221-865391e32984"
      },
      "execution_count": null,
      "outputs": [
        {
          "name": "stdout",
          "output_type": "stream",
          "text": [
            "Informe a temperatura em °C:32\n"
          ]
        }
      ]
    },
    {
      "cell_type": "code",
      "source": [
        "F=((9 * c) / 5) + 32"
      ],
      "metadata": {
        "id": "dBV_BoQHyqbQ"
      },
      "execution_count": null,
      "outputs": []
    },
    {
      "cell_type": "code",
      "source": [
        "print(\"A temperatura de{}°C corresponde a {}°F!\".format(c, F))"
      ],
      "metadata": {
        "colab": {
          "base_uri": "https://localhost:8080/"
        },
        "id": "5-JtywSuy1nU",
        "outputId": "52d91133-ee41-42be-dff3-97066db73d2e"
      },
      "execution_count": null,
      "outputs": [
        {
          "output_type": "stream",
          "name": "stdout",
          "text": [
            "A temperatura de32.0°C corresponde a 89.6°F!\n"
          ]
        }
      ]
    },
    {
      "cell_type": "code",
      "source": [
        "# 2 ÁREA DE RENTANGULO"
      ],
      "metadata": {
        "id": "9jkK_gHizvjj"
      },
      "execution_count": null,
      "outputs": []
    },
    {
      "cell_type": "code",
      "source": [
        "largura=float(input(\"Entre com largura:\"))\n",
        "Altura=float(input(\"Entre com altura:\"))\n",
        "\n",
        "area=largura*Altura\n",
        "perimetro= 2 *(largura+Altura)\n",
        "print(\"A área do retângulo é:{}\".format(area))\n",
        "print(f\"0 perimetro do retângulo é: {perimetro}\")"
      ],
      "metadata": {
        "colab": {
          "base_uri": "https://localhost:8080/"
        },
        "id": "UT9Es7ij2tJd",
        "outputId": "d1c59dac-56e5-41b0-fd12-f6d5bf32729c"
      },
      "execution_count": null,
      "outputs": [
        {
          "output_type": "stream",
          "name": "stdout",
          "text": [
            "Entre com largura:2\n",
            "Entre com altura:3\n",
            "A área do retângulo é:6.0\n",
            "0 perimetro do retângulo é: 10.0\n"
          ]
        }
      ]
    },
    {
      "cell_type": "code",
      "source": [
        "# 3 - Comprimento de Lista"
      ],
      "metadata": {
        "id": "BR_iPMFj3Ju7"
      },
      "execution_count": null,
      "outputs": []
    },
    {
      "cell_type": "code",
      "source": [
        "lista1 = [\"laura\", \"Lia\", \"Lauro\", \"Cleber\", \"Lair\"]\n",
        "len(lista1)"
      ],
      "metadata": {
        "colab": {
          "base_uri": "https://localhost:8080/"
        },
        "id": "Fhy9LNVV3dmg",
        "outputId": "74491488-82fb-4c5d-cb24-54036ae044e5"
      },
      "execution_count": null,
      "outputs": [
        {
          "output_type": "execute_result",
          "data": {
            "text/plain": [
              "5"
            ]
          },
          "metadata": {},
          "execution_count": 47
        }
      ]
    },
    {
      "cell_type": "code",
      "source": [
        "# 4  - Média de notas"
      ],
      "metadata": {
        "id": "z7Bwjgj447YP"
      },
      "execution_count": null,
      "outputs": []
    },
    {
      "cell_type": "code",
      "source": [
        "def run():\n",
        "  name = input(\"Nome do aluno:\")\n",
        "  print(f\"o nome do aluno é: {name}\")\n",
        "  n_1 = float(input(\"Nota 1:\"))\n",
        "  n_2 = float(input(\"Nota 2:\"))\n",
        "  n_3 = float(input(\"Nota 3:\"))\n",
        "\n",
        "  # Calculate the mean manually\n",
        "  media = (n_1 + n_2 + n_3) / 3\n",
        "  print(f\"A média do aluno {name} é: {media}\")\n",
        "\n",
        "  if media < 6:\n",
        "      print(f\"Você está de recuperação, pois sua média foi {media}!\")\n",
        "  else:\n",
        "      print(f\"Você está aprovado, pois sua média foi {media}!\")"
      ],
      "metadata": {
        "id": "zZpRNzwc5Xly"
      },
      "execution_count": null,
      "outputs": []
    },
    {
      "cell_type": "code",
      "source": [
        "run()"
      ],
      "metadata": {
        "colab": {
          "base_uri": "https://localhost:8080/"
        },
        "id": "ROn7bmf99w4s",
        "outputId": "de4aeb38-14ba-41bb-8ac7-7057c973b902"
      },
      "execution_count": null,
      "outputs": [
        {
          "output_type": "stream",
          "name": "stdout",
          "text": [
            "Nome do aluno:Erick\n",
            "o nome do aluno é: Erick\n",
            "Nota 1:10\n",
            "Nota 2:5\n",
            "Nota 3:8\n",
            "A média do aluno Erick é: 7.666666666666667\n",
            "Você está aprovado, pois sua média foi 7.666666666666667!\n"
          ]
        }
      ]
    },
    {
      "cell_type": "code",
      "source": [
        "# 5. Contagem Regressiva\n"
      ],
      "metadata": {
        "id": "xuDRM7xT-CD1"
      },
      "execution_count": null,
      "outputs": []
    },
    {
      "cell_type": "code",
      "source": [
        "from time import sleep\n",
        "\n",
        "for cont in range (20,-1,-1):\n",
        "  print(cont)\n",
        "  sleep (0.5)\n",
        "\n",
        "print(\"Acabou!Bummmmmm! Pow\")"
      ],
      "metadata": {
        "colab": {
          "base_uri": "https://localhost:8080/"
        },
        "id": "GgpoC80z-Ub8",
        "outputId": "eb29b806-be05-4705-de1b-edf052d4a3d2"
      },
      "execution_count": null,
      "outputs": [
        {
          "output_type": "stream",
          "name": "stdout",
          "text": [
            "20\n",
            "19\n",
            "18\n",
            "17\n",
            "16\n",
            "15\n",
            "14\n",
            "13\n",
            "12\n",
            "11\n",
            "10\n",
            "9\n",
            "8\n",
            "7\n",
            "6\n",
            "5\n",
            "4\n",
            "3\n",
            "2\n",
            "1\n",
            "0\n",
            "Acabou!Bummmmmm! Pow\n"
          ]
        }
      ]
    },
    {
      "cell_type": "code",
      "source": [
        "# 6 - Área do Círculo\n"
      ],
      "metadata": {
        "id": "yXwWHWoJ_pou"
      },
      "execution_count": null,
      "outputs": []
    },
    {
      "cell_type": "code",
      "source": [
        "PI= 3.14\n",
        "import math\n",
        "\n",
        "raio=float(input(\"digite o raio do círculo\"))\n",
        "area = math.pi*(raio**2)\n",
        "print (\"A area do círculo é de:\", area)"
      ],
      "metadata": {
        "colab": {
          "base_uri": "https://localhost:8080/"
        },
        "id": "6uXxYSX3__z3",
        "outputId": "540d0522-8758-44fc-ba63-5cee0953916d"
      },
      "execution_count": null,
      "outputs": [
        {
          "output_type": "stream",
          "name": "stdout",
          "text": [
            "digite o raio do círculo25\n",
            "A area do círculo é de: 1962.5\n"
          ]
        }
      ]
    },
    {
      "cell_type": "code",
      "source": [
        "# 7 Contador de Vogais"
      ],
      "metadata": {
        "id": "3kX3GXnyBnbU"
      },
      "execution_count": null,
      "outputs": []
    },
    {
      "cell_type": "code",
      "source": [
        "Frase = ('A Laura Vitória e o Lauro Daniel são lindos!')\n",
        "vowel_count = 0\n",
        "vowels = \"aeiouAEIOUóã\"\n",
        "for char in Frase:\n",
        "  if char in vowels:\n",
        "    vowel_count += 1\n",
        "print(f'Na frase \"{Frase}\" temos {vowel_count} vogais.')"
      ],
      "metadata": {
        "colab": {
          "base_uri": "https://localhost:8080/"
        },
        "id": "53zd6x3_DFPQ",
        "outputId": "8b439f8b-1729-4d97-ecb6-9a291322bc3d"
      },
      "execution_count": null,
      "outputs": [
        {
          "output_type": "stream",
          "name": "stdout",
          "text": [
            "Na frase \"A Laura Vitória e o Lauro Daniel são lindos!\" temos 20 vogais.\n"
          ]
        }
      ]
    },
    {
      "cell_type": "code",
      "source": [
        "# 8 Tabuada"
      ],
      "metadata": {
        "id": "SqdNP-gwD1Jq"
      },
      "execution_count": null,
      "outputs": []
    },
    {
      "cell_type": "code",
      "source": [
        "num = int(input(\"Digite  um número para ver a tabuada: \"))\n",
        "print('{}x{}={}'.format(num, 1, num*1))\n",
        "print('{}x{}={}'.format(num, 2, num*2))\n",
        "print('{}x{}={}'.format(num, 3, num*3))\n",
        "print('{}x{}={}'.format(num, 4, num*4))\n",
        "print('{}x{}={}'.format(num, 5, num*5))\n",
        "print('{}x{}={}'.format(num, 6, num*6))\n",
        "print('{}x{}={}'.format(num, 7, num*7))\n",
        "print('{}x{}={}'.format(num, 8, num*8))\n",
        "print('{}x{}={}'.format(num, 9, num*9))\n",
        "print('{}x{}={}'.format(num, 10, num*10))"
      ],
      "metadata": {
        "colab": {
          "base_uri": "https://localhost:8080/"
        },
        "id": "atthFXhDFWuE",
        "outputId": "4f09f31c-da31-400b-d47d-b447fc131229"
      },
      "execution_count": null,
      "outputs": [
        {
          "output_type": "stream",
          "name": "stdout",
          "text": [
            "Digite  um número para ver a tabuada: 8\n",
            "8x1=8\n",
            "8x2=16\n",
            "8x3=24\n",
            "8x4=32\n",
            "8x5=40\n",
            "8x6=48\n",
            "8x7=56\n",
            "8x8=64\n",
            "8x9=72\n",
            "8x10=80\n"
          ]
        }
      ]
    },
    {
      "cell_type": "code",
      "source": [],
      "metadata": {
        "id": "0NDFg695HMUM"
      },
      "execution_count": null,
      "outputs": []
    }
  ]
}